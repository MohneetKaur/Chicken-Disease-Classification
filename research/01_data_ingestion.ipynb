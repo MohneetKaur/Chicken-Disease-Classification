{
 "cells": [
  {
   "cell_type": "code",
   "execution_count": 2,
   "metadata": {},
   "outputs": [],
   "source": [
    "import os"
   ]
  },
  {
   "cell_type": "code",
   "execution_count": 3,
   "metadata": {},
   "outputs": [
    {
     "data": {
      "text/plain": [
       "'c:\\\\Users\\\\HP\\\\Documents\\\\projects\\\\Chicken-Disease-Classification\\\\research'"
      ]
     },
     "execution_count": 3,
     "metadata": {},
     "output_type": "execute_result"
    }
   ],
   "source": [
    "%pwd"
   ]
  },
  {
   "cell_type": "code",
   "execution_count": 4,
   "metadata": {},
   "outputs": [],
   "source": [
    "os.chdir(\"../\")"
   ]
  },
  {
   "cell_type": "code",
   "execution_count": 5,
   "metadata": {},
   "outputs": [
    {
     "data": {
      "text/plain": [
       "'c:\\\\Users\\\\HP\\\\Documents\\\\projects\\\\Chicken-Disease-Classification'"
      ]
     },
     "execution_count": 5,
     "metadata": {},
     "output_type": "execute_result"
    }
   ],
   "source": [
    "%pwd"
   ]
  },
  {
   "cell_type": "code",
   "execution_count": 6,
   "metadata": {},
   "outputs": [],
   "source": [
    "from dataclasses import dataclass\n",
    "from pathlib import Path\n",
    "\n",
    "\n",
    "# decorator is used to automatically generate special methods for the class based on its defined fields\n",
    "@dataclass(frozen=True) #  frozen=True parameter makes the class immutable, meaning its fields cannot be modified after instantiation\n",
    "class DataIngestionConfig: #  define the name of the data class\n",
    "    root_dir: Path # field of the class named root_dir of type Path from the pathlib module. It represents the root directory for the data ingestion stage\n",
    "    source_URL: str # field of the class named source_URL of type str. It represents the URL from which the data for ingestion will be sourced.\n",
    "    local_data_file: Path # field of the class named local_data_file of type Path. It represents the path where the downloaded data file will be stored locally.\n",
    "    unzip_dir: Path # field of the class named unzip_dir of type Path. It represents the directory where the downloaded zip file will be extracted/unzipped."
   ]
  },
  {
   "cell_type": "code",
   "execution_count": 8,
   "metadata": {},
   "outputs": [],
   "source": [
    "from cnnClassifier.constants import *\n",
    "from cnnClassifier.utils.common import read_yaml, create_directories"
   ]
  },
  {
   "cell_type": "code",
   "execution_count": 10,
   "metadata": {},
   "outputs": [],
   "source": [
    "class ConfigurationManager: # define the name of the class\n",
    "    def __init__( # constructor method for the ConfigurationManager class\n",
    "        self,\n",
    "        # takes two optional parameters: config_filepath and params_filepath\n",
    "        config_filepath = CONFIG_FILE_PATH,\n",
    "        params_filepath = PARAMS_FILE_PATH):\n",
    "\n",
    "        # read the YAML file specified by config_filepath and assign the contents to the self.config attribute. The read_yaml function is assumed to be defined elsewhere and is responsible for parsing the YAML file.\n",
    "        self.config = read_yaml(config_filepath)\n",
    "        self.params = read_yaml(params_filepath)\n",
    "\n",
    "        # call a function create_directories and pass a list containing the artifacts_root attribute from the self.config object. This function is be defined elsewhere and is responsible for creating the specified directories.\n",
    "\n",
    "        create_directories([self.config.artifacts_root])\n",
    "\n",
    "\n",
    "    \n",
    "    # This method returns an instance of DataIngestionConfig, which is a data class representing the configuration for data ingestion.\n",
    "    def get_data_ingestion_config(self) -> DataIngestionConfig:\n",
    "        config = self.config.data_ingestion # retrieve the data_ingestion attribute from the self.config object and assigns it to the config variable.\n",
    "\n",
    "        create_directories([config.root_dir]) # call the create_directories function to create the directory specified by config.root_dir.\n",
    "\n",
    "\n",
    "        # creates an instance of DataIngestionConfig using the values from the config object. This instance represents the configuration for the data ingestion stage.\n",
    "        data_ingestion_config = DataIngestionConfig(\n",
    "            root_dir=config.root_dir,\n",
    "            source_URL=config.source_URL,\n",
    "            local_data_file=config.local_data_file,\n",
    "            unzip_dir=config.unzip_dir \n",
    "        )\n",
    "\n",
    "        return data_ingestion_config # eturns the data_ingestion_config object"
   ]
  },
  {
   "cell_type": "code",
   "execution_count": 11,
   "metadata": {},
   "outputs": [],
   "source": [
    "import os\n",
    "import urllib.request as request\n",
    "import zipfile\n",
    "from cnnClassifier import logger\n",
    "from cnnClassifier.utils.common import get_size"
   ]
  },
  {
   "cell_type": "code",
   "execution_count": 12,
   "metadata": {},
   "outputs": [],
   "source": [
    "class DataIngestion: # defines the name of the class\n",
    "    def __init__(self, config: DataIngestionConfig): # constructor method for the DataIngestion class. It takes a single parameter config of type DataIngestionConfig\n",
    "        self.config = config # assigns the config parameter to the self.config attribute, making it accessible within the class.\n",
    "\n",
    "\n",
    "    \n",
    "    # This method downloads the data file specified in the configuration.\n",
    "    def download_file(self):\n",
    "        if not os.path.exists(self.config.local_data_file): #  check if the local data file specified in the configuration does not already exist.\n",
    "            filename, headers = request.urlretrieve(\n",
    "                url = self.config.source_URL, # urlretrieve function from the request module is used to download the file specified by the source_URL attribute in the configuration\n",
    "                filename = self.config.local_data_file # The downloaded file is saved with the path specified by local_data_file.\n",
    "            )\n",
    "\n",
    "            # It logs an information message stating that the file has been downloaded, along with additional information such as the file name and headers.\n",
    "            logger.info(f\"{filename} download! with following info: \\n{headers}\")\n",
    "\n",
    "        #  Else it logs an information message stating that the file already exists, along with its size    \n",
    "        else:\n",
    "            logger.info(f\"File already exists of size: {get_size(Path(self.config.local_data_file))}\")  \n",
    "\n",
    "\n",
    "    # This method extracts a zip file into the data directory specified in the configuration.\n",
    "    def extract_zip_file(self):\n",
    "        \"\"\"\n",
    "        zip_file_path: str\n",
    "        Extracts the zip file into the data directory\n",
    "        Function returns None\n",
    "        \"\"\"\n",
    "        unzip_path = self.config.unzip_dir # assign the unzip_dir attribute from the configuration to the unzip_path variable.\n",
    "        os.makedirs(unzip_path, exist_ok=True) # creates the directory specified by unzip_path if it doesn't already exist.\n",
    "\n",
    "        # opens the zip file specified by local_data_file attribute in the configuration for reading.\n",
    "        with zipfile.ZipFile(self.config.local_data_file, 'r') as zip_ref:\n",
    "            zip_ref.extractall(unzip_path) # extracts all the contents of the zip file into the unzip_path directory."
   ]
  },
  {
   "cell_type": "code",
   "execution_count": 13,
   "metadata": {},
   "outputs": [
    {
     "name": "stdout",
     "output_type": "stream",
     "text": [
      "[2023-06-21 14:45:58,629: INFO: common: yaml file: config\\config.yaml loaded successfully]\n",
      "[2023-06-21 14:45:58,648: INFO: common: yaml file: params.yaml loaded successfully]\n",
      "[2023-06-21 14:45:58,653: INFO: common: created directory at: artifacts]\n",
      "[2023-06-21 14:45:58,656: INFO: common: created directory at: artifacts/data_ingestion]\n",
      "[2023-06-21 14:46:12,064: INFO: 4037744573: artifacts/data_ingestion/data.zip download! with following info: \n",
      "Connection: close\n",
      "Content-Length: 11616915\n",
      "Cache-Control: max-age=300\n",
      "Content-Security-Policy: default-src 'none'; style-src 'unsafe-inline'; sandbox\n",
      "Content-Type: application/zip\n",
      "ETag: \"adf745abc03891fe493c3be264ec012691fe3fa21d861f35a27edbe6d86a76b1\"\n",
      "Strict-Transport-Security: max-age=31536000\n",
      "X-Content-Type-Options: nosniff\n",
      "X-Frame-Options: deny\n",
      "X-XSS-Protection: 1; mode=block\n",
      "X-GitHub-Request-Id: C4FC:93C9:420FA1:4E64A8:6492BFD2\n",
      "Accept-Ranges: bytes\n",
      "Date: Wed, 21 Jun 2023 09:16:05 GMT\n",
      "Via: 1.1 varnish\n",
      "X-Served-By: cache-maa10245-MAA\n",
      "X-Cache: MISS\n",
      "X-Cache-Hits: 0\n",
      "X-Timer: S1687338962.039084,VS0,VE3123\n",
      "Vary: Authorization,Accept-Encoding,Origin\n",
      "Access-Control-Allow-Origin: *\n",
      "Cross-Origin-Resource-Policy: cross-origin\n",
      "X-Fastly-Request-ID: e9a1b6905f98673c3d02c1fc0334c055fe8fe648\n",
      "Expires: Wed, 21 Jun 2023 09:21:05 GMT\n",
      "Source-Age: 3\n",
      "\n",
      "]\n"
     ]
    }
   ],
   "source": [
    "try:\n",
    "    config = ConfigurationManager()\n",
    "    data_ingestion_config = config.get_data_ingestion_config()\n",
    "    data_ingestion = DataIngestion(config=data_ingestion_config)\n",
    "    data_ingestion.download_file()\n",
    "    data_ingestion.extract_zip_file()\n",
    "except Exception as e:\n",
    "    raise e"
   ]
  },
  {
   "cell_type": "code",
   "execution_count": null,
   "metadata": {},
   "outputs": [],
   "source": []
  }
 ],
 "metadata": {
  "kernelspec": {
   "display_name": "chicken",
   "language": "python",
   "name": "python3"
  },
  "language_info": {
   "codemirror_mode": {
    "name": "ipython",
    "version": 3
   },
   "file_extension": ".py",
   "mimetype": "text/x-python",
   "name": "python",
   "nbconvert_exporter": "python",
   "pygments_lexer": "ipython3",
   "version": "3.8.16"
  },
  "orig_nbformat": 4
 },
 "nbformat": 4,
 "nbformat_minor": 2
}
